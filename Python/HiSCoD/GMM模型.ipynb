{
 "cells": [
  {
   "cell_type": "code",
   "execution_count": null,
   "metadata": {
    "colab": {
     "base_uri": "https://localhost:8080/"
    },
    "executionInfo": {
     "elapsed": 5162,
     "status": "ok",
     "timestamp": 1717573299400,
     "user": {
      "displayName": "Jack Shaw",
      "userId": "00475281007965380421"
     },
     "user_tz": -480
    },
    "id": "psI3Vdn7K6zP",
    "outputId": "c4cebb2c-4f45-4209-a261-c9ae9e6a14b3"
   },
   "outputs": [
    {
     "name": "stdout",
     "output_type": "stream",
     "text": [
      "Excel file saved to /content/drive/MyDrive/Colab Notebooks/GGM模型/GGM模型inverse_covariance_matrices.xlsx\n"
     ]
    }
   ],
   "source": [
    "import pandas as pd\n",
    "import numpy as np\n",
    "from sklearn.covariance import GraphicalLasso\n",
    "import matplotlib.pyplot as plt\n",
    "import networkx as nx\n",
    "\n",
    "# 加载数据集\n",
    "file_path = '/content/drive/MyDrive/Colab Notebooks/GGM模型/data/整理数据.xlsx'  # 谷歌colab云端地址，需要修改您自己的位置\n",
    "data = pd.read_excel(file_path, sheet_name=None)\n",
    "data_france = data['Sheet1'][data['Sheet1']['country_name'] == 'France']\n",
    "data_england = data['Sheet1'][data['Sheet1']['country_name'] == 'England']\n",
    "\n",
    "\n",
    "# 选择包含年份的相关变量\n",
    "variables_with_year = ['city_latitude', 'city_longitude', 'year', 'riot_type_hiscod_num']\n",
    "\n",
    "data_france_with_year = data_france[variables_with_year].dropna()\n",
    "data_england_with_year = data_england[variables_with_year].dropna()\n",
    "\n",
    "# 拟合高斯图模型\n",
    "model_france_with_year = GraphicalLasso(alpha=0.1)\n",
    "model_england_with_year = GraphicalLasso(alpha=0.1)\n",
    "\n",
    "model_france_with_year.fit(data_france_with_year)\n",
    "model_england_with_year.fit(data_england_with_year)\n",
    "\n",
    "# 提取精度矩阵\n",
    "precision_matrix_france_with_year = model_france_with_year.precision_\n",
    "precision_matrix_england_with_year = model_england_with_year.precision_\n",
    "\n",
    "# 计算逆协方差矩阵\n",
    "inverse_covariance_matrix_france_with_year = np.linalg.inv(model_france_with_year.covariance_)\n",
    "inverse_covariance_matrix_england_with_year = np.linalg.inv(model_england_with_year.covariance_)\n",
    "\n",
    "\n",
    "\n",
    "# 创建包含逆协方差矩阵的数据框\n",
    "variables = ['city_latitude', 'city_longitude', 'year', 'riot_type_hiscod_num']\n",
    "\n",
    "inverse_cov_df_france = pd.DataFrame(inverse_covariance_matrix_france_with_year, index=variables, columns=variables)\n",
    "inverse_cov_df_england = pd.DataFrame(inverse_covariance_matrix_england_with_year, index=variables, columns=variables)\n",
    "\n",
    "# 保存数据框到Excel文件\n",
    "output_path = '/content/drive/MyDrive/Colab Notebooks/GGM模型/GGM模型inverse_covariance_matrices.xlsx'\n",
    "with pd.ExcelWriter(output_path) as writer:\n",
    "    inverse_cov_df_france.to_excel(writer, sheet_name='France (With Year)')\n",
    "    inverse_cov_df_england.to_excel(writer, sheet_name='England (With Year)')\n",
    "\n",
    "\n"
   ]
  },
  {
   "cell_type": "code",
   "execution_count": null,
   "metadata": {
    "colab": {
     "base_uri": "https://localhost:8080/"
    },
    "executionInfo": {
     "elapsed": 303814,
     "status": "ok",
     "timestamp": 1717560592519,
     "user": {
      "displayName": "Jack Shaw",
      "userId": "00475281007965380421"
     },
     "user_tz": -480
    },
    "id": "qHhIoFe1Na1T",
    "outputId": "00f37d18-a639-4e50-daf3-73ef469a3f7c"
   },
   "outputs": [
    {
     "name": "stdout",
     "output_type": "stream",
     "text": [
      "Excel file saved to /content/drive/MyDrive/Colab Notebooks/GGM模型/inverse_covariance_matrices_with_distance.xlsx\n"
     ]
    }
   ],
   "source": [
    "import pandas as pd\n",
    "import numpy as np\n",
    "from sklearn.covariance import GraphicalLasso\n",
    "from geopy.distance import great_circle\n",
    "\n",
    "# 加载数据集\n",
    "file_path = '/content/drive/MyDrive/Colab Notebooks/GGM模型/data/整理数据.xlsx'  #谷歌云端colab写的，需要换成您自己本地位置\n",
    "data = pd.read_excel(file_path, sheet_name=None)\n",
    "data_france = data['Sheet1'][data['Sheet1']['country_name'] == 'France']\n",
    "data_england = data['Sheet1'][data['Sheet1']['country_name'] == 'England']\n",
    "\n",
    "# 清理数据，去除包含NaN的行\n",
    "data_france = data_france.dropna(subset=['city_latitude', 'city_longitude'])\n",
    "data_england = data_england.dropna(subset=['city_latitude', 'city_longitude'])\n",
    "\n",
    "# 采用great_circle计算距离\n",
    "def compute_distance_matrix(data):\n",
    "    coordinates = data[['city_latitude', 'city_longitude']].values\n",
    "    n = coordinates.shape[0]\n",
    "    distance_matrix = np.zeros((n, n))\n",
    "    for i in range(n):\n",
    "        for j in range(n):\n",
    "            distance_matrix[i, j] = great_circle(coordinates[i], coordinates[j]).kilometers\n",
    "    return distance_matrix\n",
    "\n",
    "# 计算法国和英格兰的数据的距离矩阵，采用均值距离的方法\n",
    "distance_matrix_france = compute_distance_matrix(data_france)\n",
    "distance_matrix_england = compute_distance_matrix(data_england)\n",
    "\n",
    "# 将距离矩阵转换为DataFrame，并添加到原始数据集中\n",
    "distance_df_france = pd.DataFrame(distance_matrix_france, index=data_france.index, columns=data_france.index)\n",
    "distance_df_england = pd.DataFrame(distance_matrix_england, index=data_england.index, columns=data_england.index)\n",
    "\n",
    "# 将距离作为新变量添加到数据集中\n",
    "data_france_with_distance = data_france.join(distance_df_france.mean(axis=1).rename('avg_distance'))\n",
    "data_england_with_distance = data_england.join(distance_df_england.mean(axis=1).rename('avg_distance'))\n",
    "\n",
    "# 选择包含距离的相关变量\n",
    "variables_with_distance = ['city_latitude', 'city_longitude', 'year', 'riot_type_hiscod_num', 'avg_distance']\n",
    "\n",
    "data_france_with_distance = data_france_with_distance[variables_with_distance].dropna()\n",
    "data_england_with_distance = data_england_with_distance[variables_with_distance].dropna()\n",
    "\n",
    "# 拟合高斯图模型\n",
    "model_france_with_distance = GraphicalLasso(alpha=0.1)\n",
    "model_england_with_distance = GraphicalLasso(alpha=0.1)\n",
    "\n",
    "model_france_with_distance.fit(data_france_with_distance)\n",
    "model_england_with_distance.fit(data_england_with_distance)\n",
    "\n",
    "# 提取精度矩阵\n",
    "precision_matrix_france_with_distance = model_france_with_distance.precision_\n",
    "precision_matrix_england_with_distance = model_england_with_distance.precision_\n",
    "\n",
    "# 计算逆协方差矩阵\n",
    "inverse_covariance_matrix_france_with_distance = np.linalg.inv(model_france_with_distance.covariance_)\n",
    "inverse_covariance_matrix_england_with_distance = np.linalg.inv(model_england_with_distance.covariance_)\n",
    "\n",
    "# 创建逆协方差矩阵的数据框格式\n",
    "variables_with_distance = ['city_latitude', 'city_longitude', 'year', 'riot_type_hiscod_num', 'avg_distance']\n",
    "\n",
    "inverse_cov_df_france = pd.DataFrame(inverse_covariance_matrix_france_with_distance, index=variables_with_distance, columns=variables_with_distance)\n",
    "inverse_cov_df_england = pd.DataFrame(inverse_covariance_matrix_england_with_distance, index=variables_with_distance, columns=variables_with_distance)\n",
    "\n",
    "# 保存Englland和France的逆协方差矩阵到Excel文件\n",
    "output_path = '/content/drive/MyDrive/Colab Notebooks/GGM模型/GMM模型inverse_covariance_matrices_with_distance.xlsx'\n",
    "with pd.ExcelWriter(output_path) as writer:\n",
    "    inverse_cov_df_france.to_excel(writer, sheet_name='France (With Distance)')\n",
    "    inverse_cov_df_england.to_excel(writer, sheet_name='England (With Distance)')\n",
    "\n",
    "\n"
   ]
  }
 ],
 "metadata": {
  "colab": {
   "authorship_tag": "ABX9TyN2O0nUm8gmGWBA2fm3acSf",
   "mount_file_id": "15GppEPGKL035XJJk4M7jbR0NgNrF6Dtq",
   "provenance": [],
   "toc_visible": true
  },
  "kernelspec": {
   "display_name": "Python 3",
   "language": "python",
   "name": "python3"
  },
  "language_info": {
   "codemirror_mode": {
    "name": "ipython",
    "version": 3
   },
   "file_extension": ".py",
   "mimetype": "text/x-python",
   "name": "python",
   "nbconvert_exporter": "python",
   "pygments_lexer": "ipython3",
   "version": "3.7.3"
  }
 },
 "nbformat": 4,
 "nbformat_minor": 1
}
