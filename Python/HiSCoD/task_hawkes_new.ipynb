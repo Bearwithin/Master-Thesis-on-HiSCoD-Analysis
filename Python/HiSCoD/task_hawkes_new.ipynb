{
 "cells": [
  {
   "cell_type": "code",
   "execution_count": 2,
   "metadata": {},
   "outputs": [],
   "source": [
    "import pandas as pd\n",
    "import matplotlib.pyplot as plt\n",
    "import numpy as np"
   ]
  },
  {
   "cell_type": "code",
   "execution_count": 3,
   "metadata": {},
   "outputs": [
    {
     "name": "stderr",
     "output_type": "stream",
     "text": [
      "C:\\Users\\Windows\\AppData\\Local\\Temp\\ipykernel_5108\\3624181894.py:2: DtypeWarning: Columns (14,20,34,37,39,41,43,45,46,47,48,49,50,51,52,53,54,55,57,63,64,65,66) have mixed types. Specify dtype option on import or set low_memory=False.\n",
      "  df = pd.read_csv('D:\\code\\HiSCoD\\db_hiscod_csv_v1_en.csv', sep=';')\n"
     ]
    }
   ],
   "source": [
    "# Assuming df is your dataset\n",
    "df = pd.read_csv('D:\\code\\HiSCoD\\db_hiscod_csv_v1_en.csv', sep=';')"
   ]
  },
  {
   "cell_type": "code",
   "execution_count": 4,
   "metadata": {},
   "outputs": [
    {
     "data": {
      "image/png": "[encoded data removed]",
      "text/plain": [
       "<Figure size 640x480 with 1 Axes>"
      ]
     },
     "metadata": {},
     "output_type": "display_data"
    }
   ],
   "source": [
    "# Group data by year and region, and calculate the number of conflicts for each group\n",
    "conflicts_by_year_region = df.groupby(['year', 'admin_level_1']).size().reset_index(name='conflict_count')\n",
    "\n",
    "# Plot the trend of conflict counts in different regions of Europe\n",
    "for region in conflicts_by_year_region['admin_level_1'].unique():\n",
    "    region_data = conflicts_by_year_region[conflicts_by_year_region['admin_level_1'] == region]\n",
    "    plt.plot(region_data['year'], region_data['conflict_count'], label=region)\n",
    "\n",
    "#plt.xlabel('Year')\n",
    "#plt.ylabel('Conflict Count')\n",
    "#plt.title('Conflict Count Trend in Different European Regions')\n",
    "\n",
    "\n",
    "# Adjust the size of the legend\n",
    "#plt.legend(fontsize='small', bbox_to_anchor=(1.05, 1), loc='upper left', ncol=1)\n",
    "\n",
    "#plt.show()"
   ]
  },
  {
   "cell_type": "code",
   "execution_count": 5,
   "metadata": {},
   "outputs": [
    {
     "name": "stdout",
     "output_type": "stream",
     "text": [
      "     decade      riot_type_hiscod  conflict_count\n",
      "0    1090.0    Political conflict               1\n",
      "1    1130.0    Religious conflict               1\n",
      "2    1140.0    Political conflict               1\n",
      "4    1150.0    Religious conflict               1\n",
      "5    1160.0    Political conflict               2\n",
      "..      ...                   ...             ...\n",
      "360  1850.0  Other forms conflict             247\n",
      "367  1860.0  Other forms conflict              10\n",
      "371  1870.0  Other forms conflict              12\n",
      "375  1880.0  Other forms conflict              29\n",
      "378  1890.0  Other forms conflict               3\n",
      "\n",
      "[73 rows x 3 columns]\n"
     ]
    }
   ],
   "source": [
    "# Classify conflicts by type and calculate the number of conflicts every decade\n",
    "df['decade'] = (df['year'] // 10) * 10\n",
    "conflicts_by_decade_type = df.groupby(['decade', 'riot_type_hiscod']).size().reset_index(name='conflict_count')\n",
    "\n",
    "# Find the most prominent conflict type in each decade\n",
    "most_prominent_conflicts = conflicts_by_decade_type.loc[conflicts_by_decade_type.groupby('decade')['conflict_count'].idxmax()]\n",
    "print(most_prominent_conflicts)"
   ]
  },
  {
   "cell_type": "code",
   "execution_count": 6,
   "metadata": {},
   "outputs": [
    {
     "data": {
      "text/html": [
       "<div>\n",
       "<style scoped>\n",
       "    .dataframe tbody tr th:only-of-type {\n",
       "        vertical-align: middle;\n",
       "    }\n",
       "\n",
       "    .dataframe tbody tr th {\n",
       "        vertical-align: top;\n",
       "    }\n",
       "\n",
       "    .dataframe thead th {\n",
       "        text-align: right;\n",
       "    }\n",
       "</style>\n",
       "<table border=\"1\" class=\"dataframe\">\n",
       "  <thead>\n",
       "    <tr style=\"text-align: right;\">\n",
       "      <th></th>\n",
       "      <th>decade</th>\n",
       "      <th>conflict_count</th>\n",
       "    </tr>\n",
       "  </thead>\n",
       "  <tbody>\n",
       "    <tr>\n",
       "      <th>0</th>\n",
       "      <td>1090.0</td>\n",
       "      <td>1</td>\n",
       "    </tr>\n",
       "    <tr>\n",
       "      <th>1</th>\n",
       "      <td>1130.0</td>\n",
       "      <td>1</td>\n",
       "    </tr>\n",
       "    <tr>\n",
       "      <th>2</th>\n",
       "      <td>1140.0</td>\n",
       "      <td>2</td>\n",
       "    </tr>\n",
       "    <tr>\n",
       "      <th>3</th>\n",
       "      <td>1150.0</td>\n",
       "      <td>1</td>\n",
       "    </tr>\n",
       "    <tr>\n",
       "      <th>4</th>\n",
       "      <td>1160.0</td>\n",
       "      <td>2</td>\n",
       "    </tr>\n",
       "    <tr>\n",
       "      <th>...</th>\n",
       "      <td>...</td>\n",
       "      <td>...</td>\n",
       "    </tr>\n",
       "    <tr>\n",
       "      <th>72</th>\n",
       "      <td>1850.0</td>\n",
       "      <td>558</td>\n",
       "    </tr>\n",
       "    <tr>\n",
       "      <th>73</th>\n",
       "      <td>1860.0</td>\n",
       "      <td>27</td>\n",
       "    </tr>\n",
       "    <tr>\n",
       "      <th>74</th>\n",
       "      <td>1870.0</td>\n",
       "      <td>33</td>\n",
       "    </tr>\n",
       "    <tr>\n",
       "      <th>75</th>\n",
       "      <td>1880.0</td>\n",
       "      <td>48</td>\n",
       "    </tr>\n",
       "    <tr>\n",
       "      <th>76</th>\n",
       "      <td>1890.0</td>\n",
       "      <td>5</td>\n",
       "    </tr>\n",
       "  </tbody>\n",
       "</table>\n",
       "<p>77 rows × 2 columns</p>\n",
       "</div>"
      ],
      "text/plain": [
       "    decade  conflict_count\n",
       "0   1090.0               1\n",
       "1   1130.0               1\n",
       "2   1140.0               2\n",
       "3   1150.0               1\n",
       "4   1160.0               2\n",
       "..     ...             ...\n",
       "72  1850.0             558\n",
       "73  1860.0              27\n",
       "74  1870.0              33\n",
       "75  1880.0              48\n",
       "76  1890.0               5\n",
       "\n",
       "[77 rows x 2 columns]"
      ]
     },
     "execution_count": 6,
     "metadata": {},
     "output_type": "execute_result"
    }
   ],
   "source": [
    "conflicts_by_decade = df.groupby(['decade']).size().reset_index(name='conflict_count')\n",
    "conflicts_by_decade"
   ]
  },
  {
   "cell_type": "code",
   "execution_count": 7,
   "metadata": {},
   "outputs": [],
   "source": [
    "conflicts_by_decade.to_csv('conflicts_by_decade.csv', sep=',', index=False, encoding='utf-8')"
   ]
  },
  {
   "cell_type": "code",
   "execution_count": 8,
   "metadata": {},
   "outputs": [
    {
     "data": {
      "image/png": "[encoded data removed]",
      "text/plain": [
       "<Figure size 1000x600 with 1 Axes>"
      ]
     },
     "metadata": {},
     "output_type": "display_data"
    }
   ],
   "source": [
    "# Plot a bar chart of the most prominent conflict type in each decade\n",
    "plt.figure(figsize=(10, 6))\n",
    "plt.bar(conflicts_by_decade['decade'].astype(str), conflicts_by_decade['conflict_count'], color='skyblue')\n",
    "plt.xlabel('Decade')\n",
    "plt.ylabel('Conflict Count')\n",
    "\n",
    "# Adjust the size of the x-axis tick labels\n",
    "plt.xticks(fontsize='small', rotation=75)\n",
    "plt.title('Conflict in Each Decade')\n",
    "plt.show()\n",
    "\n"
   ]
  },
  {
   "cell_type": "code",
   "execution_count": 9,
   "metadata": {},
   "outputs": [
    {
     "data": {
      "text/html": [
       "<div>\n",
       "<style scoped>\n",
       "    .dataframe tbody tr th:only-of-type {\n",
       "        vertical-align: middle;\n",
       "    }\n",
       "\n",
       "    .dataframe tbody tr th {\n",
       "        vertical-align: top;\n",
       "    }\n",
       "\n",
       "    .dataframe thead th {\n",
       "        text-align: right;\n",
       "    }\n",
       "</style>\n",
       "<table border=\"1\" class=\"dataframe\">\n",
       "  <thead>\n",
       "    <tr style=\"text-align: right;\">\n",
       "      <th></th>\n",
       "      <th>decade</th>\n",
       "      <th>conflict_count</th>\n",
       "    </tr>\n",
       "  </thead>\n",
       "  <tbody>\n",
       "    <tr>\n",
       "      <th>0</th>\n",
       "      <td>1090.0</td>\n",
       "      <td>1</td>\n",
       "    </tr>\n",
       "    <tr>\n",
       "      <th>1</th>\n",
       "      <td>1130.0</td>\n",
       "      <td>1</td>\n",
       "    </tr>\n",
       "    <tr>\n",
       "      <th>2</th>\n",
       "      <td>1140.0</td>\n",
       "      <td>2</td>\n",
       "    </tr>\n",
       "    <tr>\n",
       "      <th>3</th>\n",
       "      <td>1150.0</td>\n",
       "      <td>1</td>\n",
       "    </tr>\n",
       "    <tr>\n",
       "      <th>4</th>\n",
       "      <td>1160.0</td>\n",
       "      <td>2</td>\n",
       "    </tr>\n",
       "    <tr>\n",
       "      <th>...</th>\n",
       "      <td>...</td>\n",
       "      <td>...</td>\n",
       "    </tr>\n",
       "    <tr>\n",
       "      <th>72</th>\n",
       "      <td>1850.0</td>\n",
       "      <td>558</td>\n",
       "    </tr>\n",
       "    <tr>\n",
       "      <th>73</th>\n",
       "      <td>1860.0</td>\n",
       "      <td>27</td>\n",
       "    </tr>\n",
       "    <tr>\n",
       "      <th>74</th>\n",
       "      <td>1870.0</td>\n",
       "      <td>33</td>\n",
       "    </tr>\n",
       "    <tr>\n",
       "      <th>75</th>\n",
       "      <td>1880.0</td>\n",
       "      <td>48</td>\n",
       "    </tr>\n",
       "    <tr>\n",
       "      <th>76</th>\n",
       "      <td>1890.0</td>\n",
       "      <td>5</td>\n",
       "    </tr>\n",
       "  </tbody>\n",
       "</table>\n",
       "<p>77 rows × 2 columns</p>\n",
       "</div>"
      ],
      "text/plain": [
       "    decade  conflict_count\n",
       "0   1090.0               1\n",
       "1   1130.0               1\n",
       "2   1140.0               2\n",
       "3   1150.0               1\n",
       "4   1160.0               2\n",
       "..     ...             ...\n",
       "72  1850.0             558\n",
       "73  1860.0              27\n",
       "74  1870.0              33\n",
       "75  1880.0              48\n",
       "76  1890.0               5\n",
       "\n",
       "[77 rows x 2 columns]"
      ]
     },
     "execution_count": 9,
     "metadata": {},
     "output_type": "execute_result"
    }
   ],
   "source": [
    "conflicts_by_decade"
   ]
  },
  {
   "cell_type": "code",
   "execution_count": 10,
   "metadata": {},
   "outputs": [
    {
     "name": "stdout",
     "output_type": "stream",
     "text": [
      "     decade      riot_type_hiscod  conflict_count\n",
      "0    1090.0    Political conflict               1\n",
      "1    1130.0    Religious conflict               1\n",
      "2    1140.0    Political conflict               1\n",
      "4    1150.0    Religious conflict               1\n",
      "5    1160.0    Political conflict               2\n",
      "..      ...                   ...             ...\n",
      "360  1850.0  Other forms conflict             247\n",
      "367  1860.0  Other forms conflict              10\n",
      "371  1870.0  Other forms conflict              12\n",
      "375  1880.0  Other forms conflict              29\n",
      "378  1890.0  Other forms conflict               3\n",
      "\n",
      "[73 rows x 3 columns]\n"
     ]
    }
   ],
   "source": [
    "# Classify conflicts by type and calculate the number of conflicts every decade\n",
    "df['decade'] = (df['year'] // 10) * 10\n",
    "conflicts_by_decade_type = df.groupby(['decade', 'riot_type_hiscod']).size().reset_index(name='conflict_count')\n",
    "\n",
    "# Find the most prominent conflict type in each decade\n",
    "most_prominent_conflicts = conflicts_by_decade_type.loc[conflicts_by_decade_type.groupby('decade')['conflict_count'].idxmax()]\n",
    "print(most_prominent_conflicts)"
   ]
  },
  {
   "cell_type": "code",
   "execution_count": 11,
   "metadata": {},
   "outputs": [
    {
     "data": {
      "text/html": [
       "<div>\n",
       "<style scoped>\n",
       "    .dataframe tbody tr th:only-of-type {\n",
       "        vertical-align: middle;\n",
       "    }\n",
       "\n",
       "    .dataframe tbody tr th {\n",
       "        vertical-align: top;\n",
       "    }\n",
       "\n",
       "    .dataframe thead th {\n",
       "        text-align: right;\n",
       "    }\n",
       "</style>\n",
       "<table border=\"1\" class=\"dataframe\">\n",
       "  <thead>\n",
       "    <tr style=\"text-align: right;\">\n",
       "      <th></th>\n",
       "      <th>decade</th>\n",
       "      <th>conflict_count</th>\n",
       "    </tr>\n",
       "  </thead>\n",
       "  <tbody>\n",
       "    <tr>\n",
       "      <th>0</th>\n",
       "      <td>1090.0</td>\n",
       "      <td>1</td>\n",
       "    </tr>\n",
       "    <tr>\n",
       "      <th>1</th>\n",
       "      <td>1130.0</td>\n",
       "      <td>1</td>\n",
       "    </tr>\n",
       "    <tr>\n",
       "      <th>2</th>\n",
       "      <td>1140.0</td>\n",
       "      <td>2</td>\n",
       "    </tr>\n",
       "    <tr>\n",
       "      <th>3</th>\n",
       "      <td>1150.0</td>\n",
       "      <td>1</td>\n",
       "    </tr>\n",
       "    <tr>\n",
       "      <th>4</th>\n",
       "      <td>1160.0</td>\n",
       "      <td>2</td>\n",
       "    </tr>\n",
       "    <tr>\n",
       "      <th>...</th>\n",
       "      <td>...</td>\n",
       "      <td>...</td>\n",
       "    </tr>\n",
       "    <tr>\n",
       "      <th>72</th>\n",
       "      <td>1850.0</td>\n",
       "      <td>558</td>\n",
       "    </tr>\n",
       "    <tr>\n",
       "      <th>73</th>\n",
       "      <td>1860.0</td>\n",
       "      <td>27</td>\n",
       "    </tr>\n",
       "    <tr>\n",
       "      <th>74</th>\n",
       "      <td>1870.0</td>\n",
       "      <td>33</td>\n",
       "    </tr>\n",
       "    <tr>\n",
       "      <th>75</th>\n",
       "      <td>1880.0</td>\n",
       "      <td>48</td>\n",
       "    </tr>\n",
       "    <tr>\n",
       "      <th>76</th>\n",
       "      <td>1890.0</td>\n",
       "      <td>5</td>\n",
       "    </tr>\n",
       "  </tbody>\n",
       "</table>\n",
       "<p>77 rows × 2 columns</p>\n",
       "</div>"
      ],
      "text/plain": [
       "    decade  conflict_count\n",
       "0   1090.0               1\n",
       "1   1130.0               1\n",
       "2   1140.0               2\n",
       "3   1150.0               1\n",
       "4   1160.0               2\n",
       "..     ...             ...\n",
       "72  1850.0             558\n",
       "73  1860.0              27\n",
       "74  1870.0              33\n",
       "75  1880.0              48\n",
       "76  1890.0               5\n",
       "\n",
       "[77 rows x 2 columns]"
      ]
     },
     "execution_count": 11,
     "metadata": {},
     "output_type": "execute_result"
    }
   ],
   "source": [
    "conflicts_by_decade = df.groupby(['decade']).size().reset_index(name='conflict_count')\n",
    "conflicts_by_decade"
   ]
  },
  {
   "cell_type": "code",
   "execution_count": 12,
   "metadata": {},
   "outputs": [
    {
     "name": "stdout",
     "output_type": "stream",
     "text": [
      "0        1789.0\n",
      "1        1789.0\n",
      "2        1789.0\n",
      "3        1789.0\n",
      "4        1789.0\n",
      "          ...  \n",
      "20946    1789.0\n",
      "20947    1789.0\n",
      "20948    1789.0\n",
      "20949    1585.0\n",
      "20950    1436.0\n",
      "Name: year, Length: 20951, dtype: float64\n"
     ]
    }
   ],
   "source": [
    "print(df['year'])"
   ]
  },
  {
   "cell_type": "code",
   "execution_count": 13,
   "metadata": {},
   "outputs": [
    {
     "data": {
      "text/html": [
       "<div>\n",
       "<style scoped>\n",
       "    .dataframe tbody tr th:only-of-type {\n",
       "        vertical-align: middle;\n",
       "    }\n",
       "\n",
       "    .dataframe tbody tr th {\n",
       "        vertical-align: top;\n",
       "    }\n",
       "\n",
       "    .dataframe thead th {\n",
       "        text-align: right;\n",
       "    }\n",
       "</style>\n",
       "<table border=\"1\" class=\"dataframe\">\n",
       "  <thead>\n",
       "    <tr style=\"text-align: right;\">\n",
       "      <th></th>\n",
       "      <th>year</th>\n",
       "      <th>conflict_count</th>\n",
       "    </tr>\n",
       "  </thead>\n",
       "  <tbody>\n",
       "    <tr>\n",
       "      <th>0</th>\n",
       "      <td>1090.0</td>\n",
       "      <td>1</td>\n",
       "    </tr>\n",
       "    <tr>\n",
       "      <th>1</th>\n",
       "      <td>1137.0</td>\n",
       "      <td>1</td>\n",
       "    </tr>\n",
       "    <tr>\n",
       "      <th>2</th>\n",
       "      <td>1142.0</td>\n",
       "      <td>2</td>\n",
       "    </tr>\n",
       "    <tr>\n",
       "      <th>3</th>\n",
       "      <td>1155.0</td>\n",
       "      <td>1</td>\n",
       "    </tr>\n",
       "    <tr>\n",
       "      <th>4</th>\n",
       "      <td>1160.0</td>\n",
       "      <td>1</td>\n",
       "    </tr>\n",
       "    <tr>\n",
       "      <th>...</th>\n",
       "      <td>...</td>\n",
       "      <td>...</td>\n",
       "    </tr>\n",
       "    <tr>\n",
       "      <th>576</th>\n",
       "      <td>1886.0</td>\n",
       "      <td>11</td>\n",
       "    </tr>\n",
       "    <tr>\n",
       "      <th>577</th>\n",
       "      <td>1887.0</td>\n",
       "      <td>4</td>\n",
       "    </tr>\n",
       "    <tr>\n",
       "      <th>578</th>\n",
       "      <td>1888.0</td>\n",
       "      <td>4</td>\n",
       "    </tr>\n",
       "    <tr>\n",
       "      <th>579</th>\n",
       "      <td>1889.0</td>\n",
       "      <td>5</td>\n",
       "    </tr>\n",
       "    <tr>\n",
       "      <th>580</th>\n",
       "      <td>1890.0</td>\n",
       "      <td>5</td>\n",
       "    </tr>\n",
       "  </tbody>\n",
       "</table>\n",
       "<p>581 rows × 2 columns</p>\n",
       "</div>"
      ],
      "text/plain": [
       "       year  conflict_count\n",
       "0    1090.0               1\n",
       "1    1137.0               1\n",
       "2    1142.0               2\n",
       "3    1155.0               1\n",
       "4    1160.0               1\n",
       "..      ...             ...\n",
       "576  1886.0              11\n",
       "577  1887.0               4\n",
       "578  1888.0               4\n",
       "579  1889.0               5\n",
       "580  1890.0               5\n",
       "\n",
       "[581 rows x 2 columns]"
      ]
     },
     "execution_count": 13,
     "metadata": {},
     "output_type": "execute_result"
    }
   ],
   "source": [
    "conflicts_by_year =  df.groupby(['year']).size().reset_index(name='conflict_count')\n",
    "conflicts_by_year"
   ]
  },
  {
   "cell_type": "code",
   "execution_count": 14,
   "metadata": {},
   "outputs": [],
   "source": [
    "conflicts_by_year.to_csv('conflicts_by_year.csv', sep=',', index=False, encoding='utf-8')"
   ]
  },
  {
   "cell_type": "code",
   "execution_count": 15,
   "metadata": {},
   "outputs": [],
   "source": [
    "conflicts_by_year_np = conflicts_by_year.to_numpy().astype(int)"
   ]
  },
  {
   "cell_type": "code",
   "execution_count": 16,
   "metadata": {},
   "outputs": [
    {
     "name": "stdout",
     "output_type": "stream",
     "text": [
      "[1090.5        1137.5        1142.33333333 ... 1890.5        1890.66666667\n",
      " 1890.83333333]\n"
     ]
    }
   ],
   "source": [
    "conflicts_timestamp = []\n",
    "for year in conflicts_by_year_np:\n",
    "    conflicts_timestamp.append(np.linspace(year[0],year[0]+1,year[1]+2)[1:-1])\n",
    "\n",
    "\n",
    "conflicts_timestamp = np.concatenate(conflicts_timestamp)\n",
    "print(conflicts_timestamp)\n"
   ]
  },
  {
   "cell_type": "code",
   "execution_count": 17,
   "metadata": {},
   "outputs": [
    {
     "data": {
      "text/plain": [
       "(20950,)"
      ]
     },
     "execution_count": 17,
     "metadata": {},
     "output_type": "execute_result"
    }
   ],
   "source": [
    "conflicts_timestamp.shape"
   ]
  },
  {
   "cell_type": "code",
   "execution_count": 18,
   "metadata": {},
   "outputs": [
    {
     "name": "stdout",
     "output_type": "stream",
     "text": [
      "Requirement already satisfied: hawkes in c:\\users\\windows\\appdata\\local\\packages\\pythonsoftwarefoundation.python.3.11_qbz5n2kfra8p0\\localcache\\local-packages\\python311\\site-packages (1.0.0)\n",
      "Requirement already satisfied: numpy in c:\\users\\windows\\appdata\\local\\packages\\pythonsoftwarefoundation.python.3.11_qbz5n2kfra8p0\\localcache\\local-packages\\python311\\site-packages (from hawkes) (1.26.1)\n",
      "Requirement already satisfied: scipy in c:\\users\\windows\\appdata\\local\\packages\\pythonsoftwarefoundation.python.3.11_qbz5n2kfra8p0\\localcache\\local-packages\\python311\\site-packages (from hawkes) (1.11.4)\n",
      "Requirement already satisfied: cython in c:\\users\\windows\\appdata\\local\\packages\\pythonsoftwarefoundation.python.3.11_qbz5n2kfra8p0\\localcache\\local-packages\\python311\\site-packages (from hawkes) (3.0.9)\n",
      "Requirement already satisfied: matplotlib in c:\\users\\windows\\appdata\\local\\packages\\pythonsoftwarefoundation.python.3.11_qbz5n2kfra8p0\\localcache\\local-packages\\python311\\site-packages (from hawkes) (3.8.0)\n",
      "Requirement already satisfied: contourpy>=1.0.1 in c:\\users\\windows\\appdata\\local\\packages\\pythonsoftwarefoundation.python.3.11_qbz5n2kfra8p0\\localcache\\local-packages\\python311\\site-packages (from matplotlib->hawkes) (1.1.1)\n",
      "Requirement already satisfied: cycler>=0.10 in c:\\users\\windows\\appdata\\local\\packages\\pythonsoftwarefoundation.python.3.11_qbz5n2kfra8p0\\localcache\\local-packages\\python311\\site-packages (from matplotlib->hawkes) (0.12.1)\n",
      "Requirement already satisfied: fonttools>=4.22.0 in c:\\users\\windows\\appdata\\local\\packages\\pythonsoftwarefoundation.python.3.11_qbz5n2kfra8p0\\localcache\\local-packages\\python311\\site-packages (from matplotlib->hawkes) (4.43.1)\n",
      "Requirement already satisfied: kiwisolver>=1.0.1 in c:\\users\\windows\\appdata\\local\\packages\\pythonsoftwarefoundation.python.3.11_qbz5n2kfra8p0\\localcache\\local-packages\\python311\\site-packages (from matplotlib->hawkes) (1.4.5)\n",
      "Requirement already satisfied: packaging>=20.0 in c:\\users\\windows\\appdata\\local\\packages\\pythonsoftwarefoundation.python.3.11_qbz5n2kfra8p0\\localcache\\local-packages\\python311\\site-packages (from matplotlib->hawkes) (23.2)\n",
      "Requirement already satisfied: pillow>=6.2.0 in c:\\users\\windows\\appdata\\local\\packages\\pythonsoftwarefoundation.python.3.11_qbz5n2kfra8p0\\localcache\\local-packages\\python311\\site-packages (from matplotlib->hawkes) (10.1.0)\n",
      "Requirement already satisfied: pyparsing>=2.3.1 in c:\\users\\windows\\appdata\\local\\packages\\pythonsoftwarefoundation.python.3.11_qbz5n2kfra8p0\\localcache\\local-packages\\python311\\site-packages (from matplotlib->hawkes) (3.1.1)\n",
      "Requirement already satisfied: python-dateutil>=2.7 in c:\\users\\windows\\appdata\\local\\packages\\pythonsoftwarefoundation.python.3.11_qbz5n2kfra8p0\\localcache\\local-packages\\python311\\site-packages (from matplotlib->hawkes) (2.8.2)\n",
      "Requirement already satisfied: six>=1.5 in c:\\users\\windows\\appdata\\local\\packages\\pythonsoftwarefoundation.python.3.11_qbz5n2kfra8p0\\localcache\\local-packages\\python311\\site-packages (from python-dateutil>=2.7->matplotlib->hawkes) (1.16.0)\n"
     ]
    }
   ],
   "source": [
    "!pip install hawkes\n",
    "import Hawkes as hk"
   ]
  },
  {
   "cell_type": "code",
   "execution_count": 19,
   "metadata": {},
   "outputs": [
    {
     "data": {
      "text/plain": [
       "<Hawkes.model.estimator at 0x296cc187a90>"
      ]
     },
     "execution_count": 19,
     "metadata": {},
     "output_type": "execute_result"
    }
   ],
   "source": [
    "model = hk.estimator()\n",
    "model.set_kernel('pow')\n",
    "model.set_baseline('const')"
   ]
  },
  {
   "cell_type": "code",
   "execution_count": 20,
   "metadata": {},
   "outputs": [
    {
     "data": {
      "text/plain": [
       "(20950,)"
      ]
     },
     "execution_count": 20,
     "metadata": {},
     "output_type": "execute_result"
    }
   ],
   "source": [
    "conflicts_timestamp_1k = conflicts_timestamp - 1000\n",
    "conflicts_timestamp_1k.shape"
   ]
  },
  {
   "cell_type": "code",
   "execution_count": null,
   "metadata": {},
   "outputs": [],
   "source": [
    "itv = [0,1000] # the observation interval\n",
    "model.fit(conflicts_timestamp_1k,itv) # T is the event times (numpy.ndarray)\n",
    "print(\"parameter:\",model.parameter) # the estimated parameter values\n",
    "print(\"branching ratio:\",model.br) # the branching ratio\n",
    "print(\"log-likelihood:\",model.L) # the log-likelihood of the estimated parameter values\n",
    "print(\"AIC:\",model.AIC) # the AIC of the estimated parameter values"
   ]
  },
  {
   "cell_type": "code",
   "execution_count": 269,
   "metadata": {},
   "outputs": [],
   "source": [
    "best_mu = 0.5197\n",
    "best_k = 2.8339\n",
    "best_p = 3.3858\n",
    "best_c = 1.1140"
   ]
  },
  {
   "cell_type": "code",
   "execution_count": 275,
   "metadata": {},
   "outputs": [
    {
     "data": {
      "text/plain": [
       "<Hawkes.model.simulator at 0x20419522250>"
      ]
     },
     "execution_count": 275,
     "metadata": {},
     "output_type": "execute_result"
    }
   ],
   "source": [
    "simulation = hk.simulator()\n",
    "simulation.set_kernel('pow')\n",
    "simulation.set_baseline('const')\n",
    "para = {'mu':best_mu, 'k':best_k, 'p':best_p, 'c':best_c}\n",
    "simulation.set_parameter(para)"
   ]
  },
  {
   "cell_type": "code",
   "execution_count": 278,
   "metadata": {},
   "outputs": [],
   "source": [
    "itv_simu = [890,1000] # the observation interval\n",
    "result = simulation.simulate(itv_simu)"
   ]
  },
  {
   "cell_type": "code",
   "execution_count": 279,
   "metadata": {},
   "outputs": [
    {
     "data": {
      "image/png": "[encoded data removed]",
      "text/plain": [
       "<Figure size 400x500 with 2 Axes>"
      ]
     },
     "metadata": {},
     "output_type": "display_data"
    }
   ],
   "source": [
    "simulation.plot_N()"
   ]
  },
  {
   "cell_type": "code",
   "execution_count": 280,
   "metadata": {},
   "outputs": [
    {
     "data": {
      "image/png": "[encoded data removed]",
      "text/plain": [
       "<Figure size 400x500 with 2 Axes>"
      ]
     },
     "metadata": {},
     "output_type": "display_data"
    }
   ],
   "source": [
    "simulation.plot_l()"
   ]
  },
  {
   "cell_type": "code",
   "execution_count": null,
   "metadata": {},
   "outputs": [],
   "source": []
  },
  {
   "cell_type": "code",
   "execution_count": null,
   "metadata": {},
   "outputs": [],
   "source": []
  },
  {
   "cell_type": "code",
   "execution_count": null,
   "metadata": {},
   "outputs": [],
   "source": []
  },
  {
   "cell_type": "code",
   "execution_count": null,
   "metadata": {},
   "outputs": [],
   "source": []
  },
  {
   "cell_type": "code",
   "execution_count": null,
   "metadata": {},
   "outputs": [],
   "source": []
  },
  {
   "cell_type": "code",
   "execution_count": 112,
   "metadata": {},
   "outputs": [
    {
     "data": {
      "text/plain": [
       "<Hawkes.model.estimator at 0x296f7d60a50>"
      ]
     },
     "execution_count": 112,
     "metadata": {},
     "output_type": "execute_result"
    }
   ],
   "source": [
    "model2 = hk.estimator()\n",
    "model2.set_kernel('pow')\n",
    "model2.set_baseline('const')"
   ]
  },
  {
   "cell_type": "code",
   "execution_count": 113,
   "metadata": {},
   "outputs": [
    {
     "name": "stdout",
     "output_type": "stream",
     "text": [
      "parameter: {'mu': 0.04595183168843432, 'k': 2.1890622543360356, 'p': 2.2876709972336564, 'c': 1.5234049084836083}\n",
      "branching ratio: 0.9886604787336435\n",
      "log-likelihood: 883.3719366775613\n",
      "AIC: -1758.7438733551226\n"
     ]
    }
   ],
   "source": [
    "itv = [0,600] # the observation interval\n",
    "model2.fit(conflicts_timestamp_1k,itv) # T is the event times (numpy.ndarray)\n",
    "print(\"parameter:\",model2.parameter) # the estimated parameter values\n",
    "print(\"branching ratio:\",model2.br) # the branching ratio\n",
    "print(\"log-likelihood:\",model2.L) # the log-likelihood of the estimated parameter values\n",
    "print(\"AIC:\",model2.AIC) # the AIC of the estimated parameter values"
   ]
  },
  {
   "cell_type": "code",
   "execution_count": 114,
   "metadata": {},
   "outputs": [
    {
     "data": {
      "text/plain": [
       "<Hawkes.model.estimator at 0x296f7dbfa50>"
      ]
     },
     "execution_count": 114,
     "metadata": {},
     "output_type": "execute_result"
    }
   ],
   "source": [
    "model3 = hk.estimator()\n",
    "model3.set_kernel('pow')\n",
    "model3.set_baseline('const')"
   ]
  },
  {
   "cell_type": "code",
   "execution_count": 115,
   "metadata": {},
   "outputs": [
    {
     "name": "stdout",
     "output_type": "stream",
     "text": [
      "parameter: {'mu': 0.06506088030026713, 'k': 2.777734810486532, 'p': 2.571434229583173, 'c': 1.4239175208956145}\n",
      "branching ratio: 1.0143860095797363\n",
      "log-likelihood: 5803.090745654583\n",
      "AIC: -11598.181491309166\n"
     ]
    }
   ],
   "source": [
    "itv = [0,700] # the observation interval\n",
    "model3.fit(conflicts_timestamp_1k,itv) # T is the event times (numpy.ndarray)\n",
    "print(\"parameter:\",model3.parameter) # the estimated parameter values\n",
    "print(\"branching ratio:\",model3.br) # the branching ratio\n",
    "print(\"log-likelihood:\",model3.L) # the log-likelihood of the estimated parameter values\n",
    "print(\"AIC:\",model3.AIC) # the AIC of the estimated parameter values"
   ]
  },
  {
   "cell_type": "code",
   "execution_count": null,
   "metadata": {},
   "outputs": [
    {
     "name": "stdout",
     "output_type": "stream",
     "text": [
      "parameter: {'mu': 0.26702545279571765, 'alpha': 0.9872541553091945, 'beta': 3.7410842762563994}\n",
      "branching ratio: 0.9872541553091945\n",
      "log-likelihood: 76188.93828021841\n",
      "AIC: -152371.87656043682\n"
     ]
    }
   ],
   "source": [
    "model4 = hk.estimator()\n",
    "model4.set_kernel('exp')\n",
    "model4.set_baseline('const',)\n",
    "\n",
    "itv = [0,1000] # the observation interval\n",
    "model4.fit(conflicts_timestamp_1k,itv) # T is the event times (numpy.ndarray)\n",
    "print(\"parameter:\",model4.parameter) # the estimated parameter values\n",
    "print(\"branching ratio:\",model4.br) # the branching ratio\n",
    "print(\"log-likelihood:\",model4.L) # the log-likelihood of the estimated parameter values\n",
    "print(\"AIC:\",model4.AIC) # the AIC of the estimated parameter values"
   ]
  },
  {
   "cell_type": "code",
   "execution_count": 1,
   "metadata": {},
   "outputs": [
    {
     "ename": "NameError",
     "evalue": "name 'hk' is not defined",
     "output_type": "error",
     "traceback": [
      "\u001b[1;31m---------------------------------------------------------------------------\u001b[0m",
      "\u001b[1;31mNameError\u001b[0m                                 Traceback (most recent call last)",
      "Cell \u001b[1;32mIn[1], line 1\u001b[0m\n\u001b[1;32m----> 1\u001b[0m model4 \u001b[38;5;241m=\u001b[39m \u001b[43mhk\u001b[49m\u001b[38;5;241m.\u001b[39mestimator()\n\u001b[0;32m      2\u001b[0m model4\u001b[38;5;241m.\u001b[39mset_kernel(\u001b[38;5;124m'\u001b[39m\u001b[38;5;124mexp\u001b[39m\u001b[38;5;124m'\u001b[39m)\n\u001b[0;32m      3\u001b[0m model4\u001b[38;5;241m.\u001b[39mset_baseline(\u001b[38;5;124m'\u001b[39m\u001b[38;5;124mpconst\u001b[39m\u001b[38;5;124m'\u001b[39m,num_basis\u001b[38;5;241m=\u001b[39m\u001b[38;5;241m10\u001b[39m)\n",
      "\u001b[1;31mNameError\u001b[0m: name 'hk' is not defined"
     ]
    }
   ],
   "source": [
    "model4 = hk.estimator()\n",
    "model4.set_kernel('exp')\n",
    "model4.set_baseline('pconst',num_basis=10)\n",
    "\n",
    "itv = [0,1000] # the observation interval\n",
    "model4.fit(conflicts_timestamp_1k,itv) # T is the event times (numpy.ndarray)\n",
    "print(\"parameter:\",model4.parameter) # the estimated parameter values\n",
    "print(\"branching ratio:\",model4.br) # the branching ratio\n",
    "print(\"log-likelihood:\",model4.L) # the log-likelihood of the estimated parameter values\n",
    "print(\"AIC:\",model4.AIC) # the AIC of the estimated parameter values"
   ]
  },
  {
   "cell_type": "code",
   "execution_count": 127,
   "metadata": {},
   "outputs": [
    {
     "name": "stdout",
     "output_type": "stream",
     "text": [
      "parameter: {'mu': 0.4214598377779751, 'alpha': 0.7847054246441476, 'beta': 2.5731149631146146}\n",
      "branching ratio: 0.7847054246441476\n",
      "log-likelihood: 61.94169246592989\n",
      "AIC: -117.88338493185978\n"
     ]
    }
   ],
   "source": [
    "model5 = hk.estimator()\n",
    "model5.set_kernel('exp')\n",
    "model5.set_baseline('const')\n",
    "\n",
    "itv = [500,600] # the observation interval\n",
    "model5.fit(conflicts_timestamp_1k,itv) # T is the event times (numpy.ndarray)\n",
    "print(\"parameter:\",model5.parameter) # the estimated parameter values\n",
    "print(\"branching ratio:\",model5.br) # the branching ratio\n",
    "print(\"log-likelihood:\",model5.L) # the log-likelihood of the estimated parameter values\n",
    "print(\"AIC:\",model5.AIC) # the AIC of the estimated parameter values"
   ]
  },
  {
   "cell_type": "code",
   "execution_count": 128,
   "metadata": {},
   "outputs": [
    {
     "name": "stdout",
     "output_type": "stream",
     "text": [
      "parameter: {'mu': 1.795582545790533, 'alpha': 0.9277069205957335, 'beta': 1.8325153611875762}\n",
      "branching ratio: 0.9277069205957335\n",
      "log-likelihood: 4945.848875332149\n",
      "AIC: -9885.697750664298\n"
     ]
    }
   ],
   "source": [
    "model6 = hk.estimator()\n",
    "model6.set_kernel('exp')\n",
    "model6.set_baseline('const')\n",
    "\n",
    "itv = [600,700] # the observation interval\n",
    "model6.fit(conflicts_timestamp_1k,itv) # T is the event times (numpy.ndarray)\n",
    "print(\"parameter:\",model6.parameter) # the estimated parameter values\n",
    "print(\"branching ratio:\",model6.br) # the branching ratio\n",
    "print(\"log-likelihood:\",model6.L) # the log-likelihood of the estimated parameter values\n",
    "print(\"AIC:\",model6.AIC) # the AIC of the estimated parameter values"
   ]
  },
  {
   "cell_type": "code",
   "execution_count": 129,
   "metadata": {},
   "outputs": [
    {
     "name": "stdout",
     "output_type": "stream",
     "text": [
      "parameter: {'mu': 5.773358546078309, 'alpha': 0.9439767554702487, 'beta': 6.330580993736603}\n",
      "branching ratio: 0.9439767554702487\n",
      "log-likelihood: 40533.522400991795\n",
      "AIC: -81061.04480198359\n"
     ]
    }
   ],
   "source": [
    "model7 = hk.estimator()\n",
    "model7.set_kernel('exp')\n",
    "model7.set_baseline('const')\n",
    "\n",
    "itv = [700,800] # the observation interval\n",
    "model7.fit(conflicts_timestamp_1k,itv) # T is the event times (numpy.ndarray)\n",
    "print(\"parameter:\",model7.parameter) # the estimated parameter values\n",
    "print(\"branching ratio:\",model7.br) # the branching ratio\n",
    "print(\"log-likelihood:\",model7.L) # the log-likelihood of the estimated parameter values\n",
    "print(\"AIC:\",model7.AIC) # the AIC of the estimated parameter values"
   ]
  },
  {
   "cell_type": "code",
   "execution_count": 130,
   "metadata": {},
   "outputs": [
    {
     "name": "stdout",
     "output_type": "stream",
     "text": [
      "parameter: {'mu': 1.1849251144021122, 'alpha': 0.9833109142748021, 'beta': 5.925032782944032}\n",
      "branching ratio: 0.9833109142748021\n",
      "log-likelihood: 30243.18888182632\n",
      "AIC: -60480.37776365264\n"
     ]
    }
   ],
   "source": [
    "model8 = hk.estimator()\n",
    "model8.set_kernel('exp')\n",
    "model8.set_baseline('const')\n",
    "\n",
    "itv = [800,900] # the observation interval\n",
    "model8.fit(conflicts_timestamp_1k,itv) # T is the event times (numpy.ndarray)\n",
    "print(\"parameter:\",model8.parameter) # the estimated parameter values\n",
    "print(\"branching ratio:\",model8.br) # the branching ratio\n",
    "print(\"log-likelihood:\",model8.L) # the log-likelihood of the estimated parameter values\n",
    "print(\"AIC:\",model8.AIC) # the AIC of the estimated parameter values"
   ]
  },
  {
   "cell_type": "code",
   "execution_count": null,
   "metadata": {},
   "outputs": [],
   "source": []
  },
  {
   "cell_type": "code",
   "execution_count": null,
   "metadata": {},
   "outputs": [],
   "source": []
  },
  {
   "cell_type": "code",
   "execution_count": null,
   "metadata": {},
   "outputs": [],
   "source": []
  },
  {
   "cell_type": "code",
   "execution_count": 69,
   "metadata": {},
   "outputs": [],
   "source": [
    "timestamp_5to6 = []\n",
    "timestamp_6to7 = []\n",
    "timestamp_7to8 = []\n",
    "timestamp_8to9 = []\n",
    "\n",
    "for i in conflicts_timestamp_1k:\n",
    "    if i > 500 and i < 600:\n",
    "        timestamp_5to6.append(i)\n",
    "    if i > 600 and i < 700:\n",
    "        timestamp_6to7.append(i)\n",
    "    if i > 700 and i < 800:\n",
    "        timestamp_7to8.append(i)\n",
    "    if i > 800 and i < 900:\n",
    "        timestamp_8to9.append(i)\n",
    "\n"
   ]
  },
  {
   "cell_type": "code",
   "execution_count": 72,
   "metadata": {},
   "outputs": [],
   "source": [
    "timestamp_5to6 = np.array(timestamp_5to6)\n",
    "timestamp_6to7 = np.array(timestamp_6to7)\n",
    "timestamp_7to8 = np.array(timestamp_7to8)\n",
    "timestamp_8to9 = np.array(timestamp_8to9)"
   ]
  },
  {
   "cell_type": "code",
   "execution_count": 75,
   "metadata": {},
   "outputs": [],
   "source": [
    "timestamp_100_5to6 = timestamp_5to6 - 500\n",
    "timestamp_100_6to7 = timestamp_6to7 - 600\n",
    "timestamp_100_7to8 = timestamp_7to8 - 700\n",
    "timestamp_100_8to9 = timestamp_8to9 - 800\n"
   ]
  },
  {
   "cell_type": "code",
   "execution_count": 87,
   "metadata": {},
   "outputs": [],
   "source": [
    "timestamp_100_5to6 = timestamp_100_5to6*10"
   ]
  },
  {
   "cell_type": "code",
   "execution_count": 95,
   "metadata": {},
   "outputs": [
    {
     "data": {
      "text/plain": [
       "(192,)"
      ]
     },
     "execution_count": 95,
     "metadata": {},
     "output_type": "execute_result"
    }
   ],
   "source": [
    "timestamp_100_5to6.shape\n"
   ]
  },
  {
   "cell_type": "code",
   "execution_count": 100,
   "metadata": {},
   "outputs": [
    {
     "data": {
      "text/plain": [
       "array([ 21.66666667,  25.        ,  26.66666667,  28.33333333,\n",
       "       115.        , 124.        , 131.30434783, 131.73913043,\n",
       "       132.17391304, 133.04347826, 133.47826087, 134.34782609,\n",
       "       134.7826087 , 135.2173913 , 135.65217391, 136.08695652,\n",
       "       136.95652174, 137.39130435, 137.82608696, 138.69565217,\n",
       "       139.13043478, 142.10526316, 142.63157895, 144.21052632,\n",
       "       144.73684211, 145.26315789, 147.36842105, 148.42105263,\n",
       "       148.94736842, 151.66666667, 153.33333333, 158.33333333,\n",
       "       175.        , 177.5       , 192.5       , 195.        ,\n",
       "       223.33333333, 226.66666667, 235.        , 241.66666667,\n",
       "       245.        , 248.33333333, 255.        , 295.        ,\n",
       "       375.        , 406.66666667, 611.42857143, 614.28571429,\n",
       "       617.14285714, 620.43478261, 620.86956522, 621.30434783,\n",
       "       623.47826087, 623.91304348, 625.65217391, 626.08695652,\n",
       "       626.52173913, 628.69565217, 629.13043478, 665.        ,\n",
       "       671.42857143, 672.85714286, 674.28571429, 682.5       ,\n",
       "       693.33333333, 720.58823529, 721.17647059, 722.35294118,\n",
       "       722.94117647, 723.52941176, 724.11764706, 724.70588235,\n",
       "       725.88235294, 727.05882353, 727.64705882, 745.        ,\n",
       "       755.        , 782.5       , 787.5       , 797.5       ,\n",
       "       852.        , 854.        , 856.        , 858.        ,\n",
       "       861.        , 862.        , 863.        , 864.        ,\n",
       "       866.        , 869.        , 877.5       , 885.        ,\n",
       "       915.        , 954.28571429, 966.        , 968.        ,\n",
       "       977.14285714, 985.        , 992.5       , 997.5       ])"
      ]
     },
     "execution_count": 100,
     "metadata": {},
     "output_type": "execute_result"
    }
   ],
   "source": [
    "sample =  np.random.choice(timestamp_100_5to6, size=100, replace=False)\n",
    "sample = np.sort(sample)\n",
    "sample"
   ]
  },
  {
   "cell_type": "code",
   "execution_count": 101,
   "metadata": {},
   "outputs": [
    {
     "name": "stderr",
     "output_type": "stream",
     "text": [
      "C:\\Users\\Windows\\AppData\\Local\\Packages\\PythonSoftwareFoundation.Python.3.11_qbz5n2kfra8p0\\LocalCache\\local-packages\\Python311\\site-packages\\Hawkes\\tools\\Quasi_Newton.py:143: RuntimeWarning: overflow encountered in multiply\n",
      "  para[param.idx(\"para_exp\")] *= np.exp( s_extended[param.idx(\"para_exp\")] )\n",
      "C:\\Users\\Windows\\AppData\\Local\\Packages\\PythonSoftwareFoundation.Python.3.11_qbz5n2kfra8p0\\LocalCache\\local-packages\\Python311\\site-packages\\Hawkes\\model.py:790: RuntimeWarning: invalid value encountered in multiply\n",
      "  H   = delta * k * np.exp( log_dphi + (p-1)*log_phi - c*phi ) / gamma(p)\n",
      "C:\\Users\\Windows\\AppData\\Local\\Packages\\PythonSoftwareFoundation.Python.3.11_qbz5n2kfra8p0\\LocalCache\\local-packages\\Python311\\site-packages\\Hawkes\\model.py:800: RuntimeWarning: invalid value encountered in multiply\n",
      "  H_p = delta * k * np.exp( log_dphi + (p-1)*log_phi - c*phi ) / gamma(p) * (log_phi-digamma(p))\n",
      "C:\\Users\\Windows\\AppData\\Local\\Packages\\PythonSoftwareFoundation.Python.3.11_qbz5n2kfra8p0\\LocalCache\\local-packages\\Python311\\site-packages\\Hawkes\\model.py:801: RuntimeWarning: invalid value encountered in multiply\n",
      "  H_c = delta * k * np.exp( log_dphi +     p*log_phi - c*phi ) / gamma(p) * (-1)\n",
      "C:\\Users\\Windows\\AppData\\Local\\Packages\\PythonSoftwareFoundation.Python.3.11_qbz5n2kfra8p0\\LocalCache\\local-packages\\Python311\\site-packages\\Hawkes\\model.py:762: RuntimeWarning: invalid value encountered in multiply\n",
      "  f2 = k / (-p+1) * (x2+c)**(-p+1)\n",
      "C:\\Users\\Windows\\AppData\\Local\\Packages\\PythonSoftwareFoundation.Python.3.11_qbz5n2kfra8p0\\LocalCache\\local-packages\\Python311\\site-packages\\Hawkes\\model.py:764: RuntimeWarning: invalid value encountered in subtract\n",
      "  dInt['k']     = (f2-f1)/k\n",
      "C:\\Users\\Windows\\AppData\\Local\\Packages\\PythonSoftwareFoundation.Python.3.11_qbz5n2kfra8p0\\LocalCache\\local-packages\\Python311\\site-packages\\Hawkes\\model.py:765: RuntimeWarning: invalid value encountered in subtract\n",
      "  dInt['p']     = (f2-f1)/(-p+1) + ( - f2*np.log(x2+c) + f1*np.log(x1+c) )\n",
      "C:\\Users\\Windows\\AppData\\Local\\Packages\\PythonSoftwareFoundation.Python.3.11_qbz5n2kfra8p0\\LocalCache\\local-packages\\Python311\\site-packages\\Hawkes\\model.py:765: RuntimeWarning: invalid value encountered in add\n",
      "  dInt['p']     = (f2-f1)/(-p+1) + ( - f2*np.log(x2+c) + f1*np.log(x1+c) )\n",
      "C:\\Users\\Windows\\AppData\\Local\\Packages\\PythonSoftwareFoundation.Python.3.11_qbz5n2kfra8p0\\LocalCache\\local-packages\\Python311\\site-packages\\Hawkes\\model.py:766: RuntimeWarning: invalid value encountered in subtract\n",
      "  dInt['c']     = ( f2/(x2+c) - f1/(x1+c) ) * (-p+1)\n"
     ]
    },
    {
     "ename": "KeyboardInterrupt",
     "evalue": "",
     "output_type": "error",
     "traceback": [
      "\u001b[1;31m---------------------------------------------------------------------------\u001b[0m",
      "\u001b[1;31mKeyboardInterrupt\u001b[0m                         Traceback (most recent call last)",
      "Cell \u001b[1;32mIn[101], line 6\u001b[0m\n\u001b[0;32m      3\u001b[0m model2\u001b[38;5;241m.\u001b[39mset_baseline(\u001b[38;5;124m'\u001b[39m\u001b[38;5;124mconst\u001b[39m\u001b[38;5;124m'\u001b[39m)\n\u001b[0;32m      5\u001b[0m itv \u001b[38;5;241m=\u001b[39m [\u001b[38;5;241m0\u001b[39m,\u001b[38;5;241m1000\u001b[39m] \u001b[38;5;66;03m# the observation interval\u001b[39;00m\n\u001b[1;32m----> 6\u001b[0m \u001b[43mmodel2\u001b[49m\u001b[38;5;241;43m.\u001b[39;49m\u001b[43mfit\u001b[49m\u001b[43m(\u001b[49m\u001b[43msample\u001b[49m\u001b[43m,\u001b[49m\u001b[43mitv\u001b[49m\u001b[43m)\u001b[49m \u001b[38;5;66;03m# T is the event times (numpy.ndarray)\u001b[39;00m\n\u001b[0;32m      7\u001b[0m \u001b[38;5;28mprint\u001b[39m(\u001b[38;5;124m\"\u001b[39m\u001b[38;5;124mparameter:\u001b[39m\u001b[38;5;124m\"\u001b[39m,model2\u001b[38;5;241m.\u001b[39mparameter) \u001b[38;5;66;03m# the estimated parameter values\u001b[39;00m\n\u001b[0;32m      8\u001b[0m \u001b[38;5;28mprint\u001b[39m(\u001b[38;5;124m\"\u001b[39m\u001b[38;5;124mbranching ratio:\u001b[39m\u001b[38;5;124m\"\u001b[39m,model2\u001b[38;5;241m.\u001b[39mbr) \u001b[38;5;66;03m# the branching ratio\u001b[39;00m\n",
      "File \u001b[1;32m~\\AppData\\Local\\Packages\\PythonSoftwareFoundation.Python.3.11_qbz5n2kfra8p0\\LocalCache\\local-packages\\Python311\\site-packages\\Hawkes\\model.py:153\u001b[0m, in \u001b[0;36mestimator.fit\u001b[1;34m(self, T, itv, prior, opt, merge)\u001b[0m\n\u001b[0;32m    150\u001b[0m stg \u001b[38;5;241m=\u001b[39m merge_stg([stg_b,stg_k])\n\u001b[0;32m    151\u001b[0m \u001b[38;5;28mself\u001b[39m\u001b[38;5;241m.\u001b[39mstg \u001b[38;5;241m=\u001b[39m stg\n\u001b[1;32m--> 153\u001b[0m [para,L,ste,G_norm,i_loop] \u001b[38;5;241m=\u001b[39m \u001b[43mQuasi_Newton\u001b[49m\u001b[43m(\u001b[49m\u001b[38;5;28;43mself\u001b[39;49m\u001b[43m,\u001b[49m\u001b[43mprior\u001b[49m\u001b[43m,\u001b[49m\u001b[43mmerge\u001b[49m\u001b[43m,\u001b[49m\u001b[43mopt\u001b[49m\u001b[43m)\u001b[49m\n\u001b[0;32m    155\u001b[0m \u001b[38;5;28mself\u001b[39m\u001b[38;5;241m.\u001b[39mpara \u001b[38;5;241m=\u001b[39m para\n\u001b[0;32m    156\u001b[0m \u001b[38;5;28mself\u001b[39m\u001b[38;5;241m.\u001b[39mparameter \u001b[38;5;241m=\u001b[39m para\n",
      "File \u001b[1;32m~\\AppData\\Local\\Packages\\PythonSoftwareFoundation.Python.3.11_qbz5n2kfra8p0\\LocalCache\\local-packages\\Python311\\site-packages\\Hawkes\\tools\\Quasi_Newton.py:135\u001b[0m, in \u001b[0;36mQuasi_Newton\u001b[1;34m(model, prior, merge, opt)\u001b[0m\n\u001b[0;32m    132\u001b[0m     \u001b[38;5;28;01mbreak\u001b[39;00m\n\u001b[0;32m    134\u001b[0m \u001b[38;5;66;03m#calculate direction\u001b[39;00m\n\u001b[1;32m--> 135\u001b[0m s \u001b[38;5;241m=\u001b[39m H\u001b[38;5;241m.\u001b[39mdot(G1);\n\u001b[0;32m    136\u001b[0m s_extended \u001b[38;5;241m=\u001b[39m np\u001b[38;5;241m.\u001b[39mdot(M_merge_T,s)\n\u001b[0;32m    137\u001b[0m gamma \u001b[38;5;241m=\u001b[39m \u001b[38;5;241m1\u001b[39m\u001b[38;5;241m/\u001b[39mnp\u001b[38;5;241m.\u001b[39mmax([np\u001b[38;5;241m.\u001b[39mmax(np\u001b[38;5;241m.\u001b[39mabs(s_extended)\u001b[38;5;241m/\u001b[39mstep_Q),\u001b[38;5;241m1\u001b[39m])\n",
      "\u001b[1;31mKeyboardInterrupt\u001b[0m: "
     ]
    }
   ],
   "source": [
    "model2 = hk.estimator()\n",
    "model2.set_kernel('pow')\n",
    "model2.set_baseline('const')\n",
    "\n",
    "itv = [0,1000] # the observation interval\n",
    "model2.fit(sample,itv) # T is the event times (numpy.ndarray)\n",
    "print(\"parameter:\",model2.parameter) # the estimated parameter values\n",
    "print(\"branching ratio:\",model2.br) # the branching ratio\n",
    "print(\"log-likelihood:\",model2.L) # the log-likelihood of the estimated parameter values\n",
    "print(\"AIC:\",model2.AIC) # the AIC of the estimated parameter values"
   ]
  },
  {
   "cell_type": "code",
   "execution_count": null,
   "metadata": {},
   "outputs": [],
   "source": [
    "timestamp_100_5to6"
   ]
  },
  {
   "cell_type": "code",
   "execution_count": null,
   "metadata": {},
   "outputs": [],
   "source": []
  },
  {
   "cell_type": "code",
   "execution_count": null,
   "metadata": {},
   "outputs": [],
   "source": []
  },
  {
   "cell_type": "code",
   "execution_count": null,
   "metadata": {},
   "outputs": [],
   "source": []
  },
  {
   "cell_type": "code",
   "execution_count": null,
   "metadata": {},
   "outputs": [],
   "source": []
  },
  {
   "cell_type": "code",
   "execution_count": null,
   "metadata": {},
   "outputs": [],
   "source": []
  },
  {
   "cell_type": "code",
   "execution_count": 9,
   "metadata": {},
   "outputs": [
    {
     "name": "stdout",
     "output_type": "stream",
     "text": [
      "Most prominent conflict type in each decade:\n",
      "     decade      riot_type_hiscod  conflict_count\n",
      "0    1090.0    Political conflict               1\n",
      "1    1130.0    Religious conflict               1\n",
      "2    1140.0    Political conflict               1\n",
      "4    1150.0    Religious conflict               1\n",
      "5    1160.0    Political conflict               2\n",
      "..      ...                   ...             ...\n",
      "360  1850.0  Other forms conflict             247\n",
      "367  1860.0  Other forms conflict              10\n",
      "371  1870.0  Other forms conflict              12\n",
      "375  1880.0  Other forms conflict              29\n",
      "378  1890.0  Other forms conflict               3\n",
      "\n",
      "[73 rows x 3 columns]\n",
      "\n",
      "Most prominent conflict type in each century:\n",
      "    century                                 riot_type_hiscod  conflict_count\n",
      "0    1000.0                               Political conflict               1\n",
      "2    1100.0                               Political conflict               4\n",
      "9    1200.0                               Political conflict              63\n",
      "17   1300.0                               Political conflict             208\n",
      "20   1400.0  Conflict with local and/or national authorities              47\n",
      "33   1500.0                               Religious conflict              66\n",
      "42   1600.0                                         Tax riot             868\n",
      "45   1700.0                                        Food riot            3097\n",
      "56   1800.0                             Other forms conflict            3024\n"
     ]
    }
   ],
   "source": [
    "# Convert the year to decade and century intervals\n",
    "df['decade'] = (df['year'] // 10) * 10\n",
    "df['century'] = (df['year'] // 100) * 100\n",
    "\n",
    "# Classify conflicts by type and calculate the number of conflicts every decade and every century\n",
    "conflicts_by_decade_type = df.groupby(['decade', 'riot_type_hiscod']).size().reset_index(name='conflict_count')\n",
    "conflicts_by_century_type = df.groupby(['century', 'riot_type_hiscod']).size().reset_index(name='conflict_count')\n",
    "\n",
    "# Find the most prominent conflict type in each decade and each century\n",
    "most_prominent_conflicts_decade = conflicts_by_decade_type.loc[conflicts_by_decade_type.groupby('decade')['conflict_count'].idxmax()]\n",
    "most_prominent_conflicts_century = conflicts_by_century_type.loc[conflicts_by_century_type.groupby('century')['conflict_count'].idxmax()]\n",
    "\n",
    "# Output the results\n",
    "print('Most prominent conflict type in each decade:')\n",
    "print(most_prominent_conflicts_decade)\n",
    "print('\\nMost prominent conflict type in each century:')\n",
    "print(most_prominent_conflicts_century)\n",
    "\n"
   ]
  },
  {
   "cell_type": "code",
   "execution_count": 10,
   "metadata": {},
   "outputs": [
    {
     "name": "stdout",
     "output_type": "stream",
     "text": [
      "\n",
      "All types of conflicts:\n",
      "['Tax riot' 'Feudal conflict' 'Food riot' 'Labour conflict'\n",
      " 'Conflict with local and/or national authorities' 'Other forms conflict'\n",
      " 'Religious conflict' 'Political conflict' nan 'Slave revolt']\n"
     ]
    },
    {
     "data": {
      "image/png": "[encoded data removed]",
      "text/plain": [
       "<Figure size 1000x600 with 1 Axes>"
      ]
     },
     "metadata": {},
     "output_type": "display_data"
    }
   ],
   "source": [
    "# Output all types of conflicts\n",
    "print('\\nAll types of conflicts:')\n",
    "print(df['riot_type_hiscod'].unique())\n",
    "\n",
    "conflicts_by_type = df['riot_type_hiscod'].value_counts()\n",
    "plt.figure(figsize=(10, 6))\n",
    "plt.pie(conflicts_by_type.values, labels=conflicts_by_type.index, autopct='%1.1f%%')\n",
    "plt.title('Pie Chart of Conflict Types')\n",
    "plt.show()"
   ]
  }
 ],
 "metadata": {
  "kernelspec": {
   "display_name": "Python 3",
   "language": "python",
   "name": "python3"
  },
  "language_info": {
   "codemirror_mode": {
    "name": "ipython",
    "version": 3
   },
   "file_extension": ".py",
   "mimetype": "text/x-python",
   "name": "python",
   "nbconvert_exporter": "python",
   "pygments_lexer": "ipython3",
   "version": "3.11.9"
  }
 },
 "nbformat": 4,
 "nbformat_minor": 2
}
